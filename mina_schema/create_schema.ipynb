{
 "cells": [
  {
   "cell_type": "code",
   "execution_count": 1,
   "id": "wrong-concentrate",
   "metadata": {
    "ExecuteTime": {
     "end_time": "2021-03-05T15:32:04.870174Z",
     "start_time": "2021-03-05T15:32:04.469050Z"
    }
   },
   "outputs": [],
   "source": [
    "%load_ext blackcellmagic\n",
    "%load_ext autoreload\n",
    "%autoreload 2"
   ]
  },
  {
   "cell_type": "code",
   "execution_count": 14,
   "id": "later-quest",
   "metadata": {
    "ExecuteTime": {
     "end_time": "2021-03-05T15:40:30.348037Z",
     "start_time": "2021-03-05T15:40:30.329547Z"
    }
   },
   "outputs": [],
   "source": [
    "import sys\n",
    "sys.path.append('/Users/bakebrain/src')\n",
    "\n",
    "from mina.MinaClient import Client, Currency\n",
    "import sgqlc\n",
    "import json"
   ]
  },
  {
   "cell_type": "code",
   "execution_count": 3,
   "id": "saving-convenience",
   "metadata": {
    "ExecuteTime": {
     "end_time": "2021-03-05T15:32:29.959017Z",
     "start_time": "2021-03-05T15:32:29.941517Z"
    }
   },
   "outputs": [],
   "source": [
    "GRAPHQL_HOST = '127.0.0.1'\n",
    "GRAPHQL_PORT = '3085'\n",
    "\n",
    "mina_client = Client(graphql_host=GRAPHQL_HOST, graphql_port=GRAPHQL_PORT)"
   ]
  },
  {
   "cell_type": "code",
   "execution_count": 16,
   "id": "developmental-albany",
   "metadata": {
    "ExecuteTime": {
     "end_time": "2021-03-05T15:40:50.206814Z",
     "start_time": "2021-03-05T15:40:49.876734Z"
    }
   },
   "outputs": [],
   "source": [
    "variables = {\"includeDescription\": True, \"includeDeprecated\": False}\n",
    "\n",
    "mina_schema = mina_client.send_any_query(sgqlc.introspection.query, variables=variables)"
   ]
  },
  {
   "cell_type": "code",
   "execution_count": null,
   "id": "automotive-rebate",
   "metadata": {},
   "outputs": [],
   "source": []
  },
  {
   "cell_type": "code",
   "execution_count": 18,
   "id": "graduate-setting",
   "metadata": {
    "ExecuteTime": {
     "end_time": "2021-03-05T15:42:00.014706Z",
     "start_time": "2021-03-05T15:41:59.978727Z"
    }
   },
   "outputs": [],
   "source": [
    "with open('mina_schema.json', 'w') as f:\n",
    "    json.dump(mina_schema, f, sort_keys=True, indent=2, default=str)"
   ]
  },
  {
   "cell_type": "code",
   "execution_count": 19,
   "id": "literary-absolute",
   "metadata": {
    "ExecuteTime": {
     "end_time": "2021-03-05T15:43:01.624311Z",
     "start_time": "2021-03-05T15:43:00.605819Z"
    }
   },
   "outputs": [],
   "source": [
    "!sgqlc-codegen schema mina_schema.json mina_schema.py"
   ]
  },
  {
   "cell_type": "code",
   "execution_count": null,
   "id": "existing-fusion",
   "metadata": {},
   "outputs": [],
   "source": []
  }
 ],
 "metadata": {
  "kernelspec": {
   "display_name": "Python 3",
   "language": "python",
   "name": "python3"
  },
  "language_info": {
   "codemirror_mode": {
    "name": "ipython",
    "version": 3
   },
   "file_extension": ".py",
   "mimetype": "text/x-python",
   "name": "python",
   "nbconvert_exporter": "python",
   "pygments_lexer": "ipython3",
   "version": "3.8.5"
  }
 },
 "nbformat": 4,
 "nbformat_minor": 5
}
