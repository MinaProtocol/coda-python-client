{
 "cells": [
  {
   "cell_type": "code",
   "execution_count": 15,
   "id": "hollywood-surveillance",
   "metadata": {
    "ExecuteTime": {
     "end_time": "2021-03-14T11:48:32.924437Z",
     "start_time": "2021-03-14T11:48:32.908414Z"
    }
   },
   "outputs": [],
   "source": [
    "from sgqlc.introspection import query"
   ]
  },
  {
   "cell_type": "code",
   "execution_count": 16,
   "id": "serious-retail",
   "metadata": {
    "ExecuteTime": {
     "end_time": "2021-03-14T11:48:33.409557Z",
     "start_time": "2021-03-14T11:48:33.254426Z"
    }
   },
   "outputs": [],
   "source": [
    "import sys\n",
    "sys.path.append('/Users/bakebrain/src')\n",
    "\n",
    "from mina.MinaClient import Client, Currency\n",
    "import json"
   ]
  },
  {
   "cell_type": "code",
   "execution_count": 17,
   "id": "reserved-duplicate",
   "metadata": {
    "ExecuteTime": {
     "end_time": "2021-03-14T11:48:33.607777Z",
     "start_time": "2021-03-14T11:48:33.589701Z"
    }
   },
   "outputs": [],
   "source": [
    "GRAPHQL_HOST = '127.0.0.1'\n",
    "GRAPHQL_PORT = '3085'\n",
    "\n",
    "mina_client = Client(graphql_host=GRAPHQL_HOST, graphql_port=GRAPHQL_PORT)"
   ]
  },
  {
   "cell_type": "code",
   "execution_count": 19,
   "id": "toxic-preview",
   "metadata": {
    "ExecuteTime": {
     "end_time": "2021-03-14T11:49:02.575759Z",
     "start_time": "2021-03-14T11:49:02.194624Z"
    }
   },
   "outputs": [],
   "source": [
    "variables = {\"includeDescription\": True, \"includeDeprecated\": False}\n",
    "\n",
    "mina_schema = mina_client.send_any_query(sgqlc.introspection.query, variables=variables)"
   ]
  },
  {
   "cell_type": "code",
   "execution_count": 22,
   "id": "prospective-marker",
   "metadata": {
    "ExecuteTime": {
     "end_time": "2021-03-14T11:49:20.627510Z",
     "start_time": "2021-03-14T11:49:20.566090Z"
    }
   },
   "outputs": [],
   "source": [
    "with open('mina_schema.json', 'w') as f:\n",
    "    json.dump(mina_schema, f, sort_keys=True, indent=2, default=str)"
   ]
  },
  {
   "cell_type": "code",
   "execution_count": 23,
   "id": "incorporate-trustee",
   "metadata": {
    "ExecuteTime": {
     "end_time": "2021-03-14T11:49:23.355178Z",
     "start_time": "2021-03-14T11:49:23.024797Z"
    }
   },
   "outputs": [],
   "source": [
    "!sgqlc-codegen schema mina_schema.json mina_schema.py"
   ]
  },
  {
   "cell_type": "code",
   "execution_count": null,
   "id": "popular-disposal",
   "metadata": {},
   "outputs": [],
   "source": []
  }
 ],
 "metadata": {
  "kernelspec": {
   "display_name": "Python 3",
   "language": "python",
   "name": "python3"
  },
  "language_info": {
   "codemirror_mode": {
    "name": "ipython",
    "version": 3
   },
   "file_extension": ".py",
   "mimetype": "text/x-python",
   "name": "python",
   "nbconvert_exporter": "python",
   "pygments_lexer": "ipython3",
   "version": "3.8.5"
  }
 },
 "nbformat": 4,
 "nbformat_minor": 5
}
