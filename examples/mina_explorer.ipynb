{
 "cells": [
  {
   "cell_type": "code",
   "execution_count": 1,
   "id": "lasting-catalog",
   "metadata": {
    "ExecuteTime": {
     "end_time": "2021-04-16T10:55:21.208345Z",
     "start_time": "2021-04-16T10:55:20.946934Z"
    }
   },
   "outputs": [],
   "source": [
    "%load_ext blackcellmagic\n",
    "%load_ext autoreload\n",
    "%autoreload 2"
   ]
  },
  {
   "cell_type": "markdown",
   "id": "pending-maryland",
   "metadata": {},
   "source": [
    "# example mina explorer queries"
   ]
  },
  {
   "cell_type": "code",
   "execution_count": 22,
   "id": "prime-longitude",
   "metadata": {
    "ExecuteTime": {
     "end_time": "2021-04-16T11:03:35.800399Z",
     "start_time": "2021-04-16T11:03:35.761009Z"
    }
   },
   "outputs": [],
   "source": [
    "from MinaClient import Client\n",
    "from mina_schemas import mina_explorer_schema\n",
    "from sgqlc.operation import Operation\n",
    "import pandas as pd"
   ]
  },
  {
   "cell_type": "code",
   "execution_count": 23,
   "id": "patent-serbia",
   "metadata": {
    "ExecuteTime": {
     "end_time": "2021-04-16T11:03:35.989485Z",
     "start_time": "2021-04-16T11:03:35.954785Z"
    }
   },
   "outputs": [],
   "source": [
    "MINA_EXPLORER_ENDPOINT = \"https://graphql.minaexplorer.com/\"\n",
    "mina_explorer_client = Client(endpoint=MINA_EXPLORER_ENDPOINT)"
   ]
  },
  {
   "cell_type": "code",
   "execution_count": null,
   "id": "freelance-record",
   "metadata": {},
   "outputs": [],
   "source": []
  },
  {
   "cell_type": "markdown",
   "id": "timely-thread",
   "metadata": {},
   "source": [
    "## stakes"
   ]
  },
  {
   "cell_type": "code",
   "execution_count": 27,
   "id": "pending-possession",
   "metadata": {
    "ExecuteTime": {
     "end_time": "2021-04-16T11:05:14.435145Z",
     "start_time": "2021-04-16T11:05:14.405100Z"
    }
   },
   "outputs": [],
   "source": [
    "STAKER_PUBLIC_KEY = \"B62qpge4uMq4Vv5Rvc8Gw9qSquUYd6xoW1pz7HQkMSHm6h1o7pvLPAN\" # mina explorer\n",
    "LEDGER_HASH = \"jx7buQVWFLsXTtzRgSxbYcT8EYLS8KCZbLrfDcJxMtyy4thw2Ee\""
   ]
  },
  {
   "cell_type": "code",
   "execution_count": 28,
   "id": "horizontal-maintenance",
   "metadata": {
    "ExecuteTime": {
     "end_time": "2021-04-16T11:05:16.032320Z",
     "start_time": "2021-04-16T11:05:14.815367Z"
    }
   },
   "outputs": [],
   "source": [
    "op = Operation(mina_explorer_schema.Query)\n",
    "\n",
    "query = mina_explorer_schema.StakeQueryInput(\n",
    "    delegate=STAKER_PUBLIC_KEY, ledger_hash=LEDGER_HASH\n",
    ")\n",
    "\n",
    "stakes = op.stakes(query=query, limit=1000)\n",
    "\n",
    "stakes.public_key()\n",
    "stakes.balance()\n",
    "\n",
    "res = mina_explorer_client.send_any_query(op)\n",
    "\n",
    "stakes_df = pd.json_normalize(res[\"data\"][\"stakes\"], sep=\"_\")"
   ]
  },
  {
   "cell_type": "code",
   "execution_count": 29,
   "id": "tamil-perfume",
   "metadata": {
    "ExecuteTime": {
     "end_time": "2021-04-16T11:05:16.064341Z",
     "start_time": "2021-04-16T11:05:16.034513Z"
    }
   },
   "outputs": [
    {
     "data": {
      "text/html": [
       "<div>\n",
       "<style scoped>\n",
       "    .dataframe tbody tr th:only-of-type {\n",
       "        vertical-align: middle;\n",
       "    }\n",
       "\n",
       "    .dataframe tbody tr th {\n",
       "        vertical-align: top;\n",
       "    }\n",
       "\n",
       "    .dataframe thead th {\n",
       "        text-align: right;\n",
       "    }\n",
       "</style>\n",
       "<table border=\"1\" class=\"dataframe\">\n",
       "  <thead>\n",
       "    <tr style=\"text-align: right;\">\n",
       "      <th></th>\n",
       "      <th>balance</th>\n",
       "      <th>public_key</th>\n",
       "    </tr>\n",
       "  </thead>\n",
       "  <tbody>\n",
       "    <tr>\n",
       "      <th>0</th>\n",
       "      <td>6697.0</td>\n",
       "      <td>B62qkbdgRRJJfqcyVd23s9tgCkNYuGMCmZHKijnJGqYgs9...</td>\n",
       "    </tr>\n",
       "    <tr>\n",
       "      <th>1</th>\n",
       "      <td>32558.0</td>\n",
       "      <td>B62qqMo7X8i2NnMxrtKf3PAWfbEADk4V1ojWhGeH6Gvye9...</td>\n",
       "    </tr>\n",
       "    <tr>\n",
       "      <th>2</th>\n",
       "      <td>7000.0</td>\n",
       "      <td>B62qkrhfb1e3fV2HCsFxvnjKp1Yu4UyVpytucWDW16Ri3r...</td>\n",
       "    </tr>\n",
       "    <tr>\n",
       "      <th>3</th>\n",
       "      <td>19200.0</td>\n",
       "      <td>B62qraStik5h6MHyJdB39Qd2gY2pPHaKsZFLWVNEv2h3F8...</td>\n",
       "    </tr>\n",
       "    <tr>\n",
       "      <th>4</th>\n",
       "      <td>65328.0</td>\n",
       "      <td>B62qqrn3yzWRDJrUni6cRva4t51AcnY1o1pM4xpB78MfHU...</td>\n",
       "    </tr>\n",
       "  </tbody>\n",
       "</table>\n",
       "</div>"
      ],
      "text/plain": [
       "   balance                                         public_key\n",
       "0   6697.0  B62qkbdgRRJJfqcyVd23s9tgCkNYuGMCmZHKijnJGqYgs9...\n",
       "1  32558.0  B62qqMo7X8i2NnMxrtKf3PAWfbEADk4V1ojWhGeH6Gvye9...\n",
       "2   7000.0  B62qkrhfb1e3fV2HCsFxvnjKp1Yu4UyVpytucWDW16Ri3r...\n",
       "3  19200.0  B62qraStik5h6MHyJdB39Qd2gY2pPHaKsZFLWVNEv2h3F8...\n",
       "4  65328.0  B62qqrn3yzWRDJrUni6cRva4t51AcnY1o1pM4xpB78MfHU..."
      ]
     },
     "execution_count": 29,
     "metadata": {},
     "output_type": "execute_result"
    }
   ],
   "source": [
    "stakes_df.head()"
   ]
  },
  {
   "cell_type": "code",
   "execution_count": null,
   "id": "crucial-cookie",
   "metadata": {},
   "outputs": [],
   "source": []
  },
  {
   "cell_type": "code",
   "execution_count": 40,
   "id": "second-nicaragua",
   "metadata": {
    "ExecuteTime": {
     "end_time": "2021-04-16T11:08:52.781387Z",
     "start_time": "2021-04-16T11:08:51.245296Z"
    }
   },
   "outputs": [],
   "source": [
    "epoch = 0\n",
    "block_height_gte = 0\n",
    "block_height_lte = 5075\n",
    "\n",
    "consensus_state = mina_explorer_schema.BlockProtocolStateConsensusStateQueryInput(\n",
    "    epoch=epoch\n",
    ")\n",
    "protocol_state = mina_explorer_schema.BlockProtocolStateQueryInput(\n",
    "    consensus_state=consensus_state\n",
    ")\n",
    "\n",
    "op = Operation(mina_explorer_schema.Query)\n",
    "\n",
    "query = mina_explorer_schema.BlockQueryInput(\n",
    "    block_height_gte=block_height_gte,\n",
    "    block_height_lte=block_height_lte,\n",
    "    creator=STAKER_PUBLIC_KEY,\n",
    "    protocol_state=protocol_state,\n",
    ")\n",
    "\n",
    "blocks = op.blocks(\n",
    "    query=query,\n",
    "    limit=500,\n",
    ")\n",
    "\n",
    "blocks.block_height()\n",
    "blocks.canonical()\n",
    "blocks.tx_fees()\n",
    "blocks.snark_fees()\n",
    "blocks.date_time()\n",
    "    \n",
    "res = mina_explorer_client.send_any_query(op)"
   ]
  },
  {
   "cell_type": "code",
   "execution_count": 41,
   "id": "helpful-adoption",
   "metadata": {
    "ExecuteTime": {
     "end_time": "2021-04-16T11:08:52.826872Z",
     "start_time": "2021-04-16T11:08:52.783586Z"
    }
   },
   "outputs": [
    {
     "data": {
      "text/html": [
       "<div>\n",
       "<style scoped>\n",
       "    .dataframe tbody tr th:only-of-type {\n",
       "        vertical-align: middle;\n",
       "    }\n",
       "\n",
       "    .dataframe tbody tr th {\n",
       "        vertical-align: top;\n",
       "    }\n",
       "\n",
       "    .dataframe thead th {\n",
       "        text-align: right;\n",
       "    }\n",
       "</style>\n",
       "<table border=\"1\" class=\"dataframe\">\n",
       "  <thead>\n",
       "    <tr style=\"text-align: right;\">\n",
       "      <th></th>\n",
       "      <th>blockHeight</th>\n",
       "      <th>canonical</th>\n",
       "      <th>dateTime</th>\n",
       "      <th>snarkFees</th>\n",
       "      <th>txFees</th>\n",
       "    </tr>\n",
       "  </thead>\n",
       "  <tbody>\n",
       "    <tr>\n",
       "      <th>0</th>\n",
       "      <td>5044</td>\n",
       "      <td>True</td>\n",
       "      <td>2021-03-31T19:00:00Z</td>\n",
       "      <td>0</td>\n",
       "      <td>30000000</td>\n",
       "    </tr>\n",
       "    <tr>\n",
       "      <th>1</th>\n",
       "      <td>5002</td>\n",
       "      <td>False</td>\n",
       "      <td>2021-03-31T16:15:00Z</td>\n",
       "      <td>0</td>\n",
       "      <td>20000000</td>\n",
       "    </tr>\n",
       "    <tr>\n",
       "      <th>2</th>\n",
       "      <td>4960</td>\n",
       "      <td>False</td>\n",
       "      <td>2021-03-31T13:03:00Z</td>\n",
       "      <td>0</td>\n",
       "      <td>21000000</td>\n",
       "    </tr>\n",
       "    <tr>\n",
       "      <th>3</th>\n",
       "      <td>4933</td>\n",
       "      <td>True</td>\n",
       "      <td>2021-03-31T11:15:00Z</td>\n",
       "      <td>0</td>\n",
       "      <td>20000000</td>\n",
       "    </tr>\n",
       "    <tr>\n",
       "      <th>4</th>\n",
       "      <td>4863</td>\n",
       "      <td>True</td>\n",
       "      <td>2021-03-31T06:18:00Z</td>\n",
       "      <td>0</td>\n",
       "      <td>31000000</td>\n",
       "    </tr>\n",
       "    <tr>\n",
       "      <th>...</th>\n",
       "      <td>...</td>\n",
       "      <td>...</td>\n",
       "      <td>...</td>\n",
       "      <td>...</td>\n",
       "      <td>...</td>\n",
       "    </tr>\n",
       "    <tr>\n",
       "      <th>145</th>\n",
       "      <td>160</td>\n",
       "      <td>False</td>\n",
       "      <td>2021-03-17T11:24:00Z</td>\n",
       "      <td>0</td>\n",
       "      <td>10000000</td>\n",
       "    </tr>\n",
       "    <tr>\n",
       "      <th>146</th>\n",
       "      <td>139</td>\n",
       "      <td>True</td>\n",
       "      <td>2021-03-17T09:48:00Z</td>\n",
       "      <td>0</td>\n",
       "      <td>20000000</td>\n",
       "    </tr>\n",
       "    <tr>\n",
       "      <th>147</th>\n",
       "      <td>68</td>\n",
       "      <td>False</td>\n",
       "      <td>2021-03-17T04:33:00Z</td>\n",
       "      <td>0</td>\n",
       "      <td>10000000</td>\n",
       "    </tr>\n",
       "    <tr>\n",
       "      <th>148</th>\n",
       "      <td>39</td>\n",
       "      <td>True</td>\n",
       "      <td>2021-03-17T02:24:00Z</td>\n",
       "      <td>0</td>\n",
       "      <td>10000000</td>\n",
       "    </tr>\n",
       "    <tr>\n",
       "      <th>149</th>\n",
       "      <td>38</td>\n",
       "      <td>False</td>\n",
       "      <td>2021-03-17T02:21:00Z</td>\n",
       "      <td>0</td>\n",
       "      <td>20000000</td>\n",
       "    </tr>\n",
       "  </tbody>\n",
       "</table>\n",
       "<p>150 rows × 5 columns</p>\n",
       "</div>"
      ],
      "text/plain": [
       "     blockHeight  canonical              dateTime snarkFees    txFees\n",
       "0           5044       True  2021-03-31T19:00:00Z         0  30000000\n",
       "1           5002      False  2021-03-31T16:15:00Z         0  20000000\n",
       "2           4960      False  2021-03-31T13:03:00Z         0  21000000\n",
       "3           4933       True  2021-03-31T11:15:00Z         0  20000000\n",
       "4           4863       True  2021-03-31T06:18:00Z         0  31000000\n",
       "..           ...        ...                   ...       ...       ...\n",
       "145          160      False  2021-03-17T11:24:00Z         0  10000000\n",
       "146          139       True  2021-03-17T09:48:00Z         0  20000000\n",
       "147           68      False  2021-03-17T04:33:00Z         0  10000000\n",
       "148           39       True  2021-03-17T02:24:00Z         0  10000000\n",
       "149           38      False  2021-03-17T02:21:00Z         0  20000000\n",
       "\n",
       "[150 rows x 5 columns]"
      ]
     },
     "execution_count": 41,
     "metadata": {},
     "output_type": "execute_result"
    }
   ],
   "source": [
    "pd.DataFrame(res['data']['blocks'])"
   ]
  },
  {
   "cell_type": "code",
   "execution_count": null,
   "id": "baking-reviewer",
   "metadata": {},
   "outputs": [],
   "source": []
  }
 ],
 "metadata": {
  "kernelspec": {
   "display_name": "Python 3",
   "language": "python",
   "name": "python3"
  },
  "language_info": {
   "codemirror_mode": {
    "name": "ipython",
    "version": 3
   },
   "file_extension": ".py",
   "mimetype": "text/x-python",
   "name": "python",
   "nbconvert_exporter": "python",
   "pygments_lexer": "ipython3",
   "version": "3.8.5"
  }
 },
 "nbformat": 4,
 "nbformat_minor": 5
}
