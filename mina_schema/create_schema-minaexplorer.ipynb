{
 "cells": [
  {
   "cell_type": "code",
   "execution_count": 1,
   "id": "floating-guatemala",
   "metadata": {
    "ExecuteTime": {
     "end_time": "2021-03-29T12:12:32.796463Z",
     "start_time": "2021-03-29T12:12:32.647244Z"
    }
   },
   "outputs": [],
   "source": [
    "%load_ext blackcellmagic\n",
    "%load_ext autoreload\n",
    "%autoreload 2"
   ]
  },
  {
   "cell_type": "code",
   "execution_count": 12,
   "id": "surgical-unknown",
   "metadata": {
    "ExecuteTime": {
     "end_time": "2021-03-29T12:13:33.809618Z",
     "start_time": "2021-03-29T12:13:33.794147Z"
    }
   },
   "outputs": [],
   "source": [
    "import sys\n",
    "import json\n",
    "sys.path.append('/Users/bakebrain/src')"
   ]
  },
  {
   "cell_type": "code",
   "execution_count": 13,
   "id": "hollywood-surveillance",
   "metadata": {
    "ExecuteTime": {
     "end_time": "2021-03-29T12:13:34.217929Z",
     "start_time": "2021-03-29T12:13:34.200508Z"
    }
   },
   "outputs": [],
   "source": [
    "from mina.MinaClient import Client\n",
    "from sgqlc.introspection import query as intro_query"
   ]
  },
  {
   "cell_type": "code",
   "execution_count": 14,
   "id": "stuck-sewing",
   "metadata": {
    "ExecuteTime": {
     "end_time": "2021-03-29T12:13:34.551325Z",
     "start_time": "2021-03-29T12:13:34.533446Z"
    }
   },
   "outputs": [],
   "source": [
    "mina_client = Client(endpoint='https://graphql.minaexplorer.com/')"
   ]
  },
  {
   "cell_type": "code",
   "execution_count": 15,
   "id": "careful-leather",
   "metadata": {
    "ExecuteTime": {
     "end_time": "2021-03-29T12:13:36.782654Z",
     "start_time": "2021-03-29T12:13:34.950667Z"
    }
   },
   "outputs": [
    {
     "name": "stdout",
     "output_type": "stream",
     "text": [
      "using: https://graphql.minaexplorer.com/\n"
     ]
    }
   ],
   "source": [
    "variables = {\"includeDescription\": True, \"includeDeprecated\": False}\n",
    "\n",
    "mina_exp_schema = mina_client.send_any_query(intro_query, variables=variables)"
   ]
  },
  {
   "cell_type": "code",
   "execution_count": 16,
   "id": "cardiac-pulse",
   "metadata": {
    "ExecuteTime": {
     "end_time": "2021-03-29T12:13:37.757277Z",
     "start_time": "2021-03-29T12:13:37.691873Z"
    }
   },
   "outputs": [],
   "source": [
    "with open('mina_explorer_schema.json', 'w') as f:\n",
    "    json.dump(mina_exp_schema, f, sort_keys=True, indent=2, default=str)"
   ]
  },
  {
   "cell_type": "code",
   "execution_count": 17,
   "id": "right-october",
   "metadata": {
    "ExecuteTime": {
     "end_time": "2021-03-29T12:13:40.848882Z",
     "start_time": "2021-03-29T12:13:39.900106Z"
    }
   },
   "outputs": [],
   "source": [
    "!sgqlc-codegen schema mina_explorer_schema.json mina_explorer_schema.py"
   ]
  },
  {
   "cell_type": "code",
   "execution_count": null,
   "id": "outside-kitty",
   "metadata": {},
   "outputs": [],
   "source": []
  },
  {
   "cell_type": "code",
   "execution_count": null,
   "id": "african-married",
   "metadata": {},
   "outputs": [],
   "source": []
  },
  {
   "cell_type": "code",
   "execution_count": null,
   "id": "subjective-wagon",
   "metadata": {},
   "outputs": [],
   "source": []
  },
  {
   "cell_type": "code",
   "execution_count": null,
   "id": "earned-faith",
   "metadata": {},
   "outputs": [],
   "source": []
  },
  {
   "cell_type": "code",
   "execution_count": null,
   "id": "welsh-character",
   "metadata": {},
   "outputs": [],
   "source": []
  },
  {
   "cell_type": "code",
   "execution_count": 82,
   "id": "protecting-decision",
   "metadata": {
    "ExecuteTime": {
     "end_time": "2021-03-17T11:54:14.428015Z",
     "start_time": "2021-03-17T11:54:13.164271Z"
    }
   },
   "outputs": [
    {
     "name": "stdout",
     "output_type": "stream",
     "text": [
      "query { blocks(limit: 1, sortBy: DATETIME_DESC, query:{canonical: true}) { stateHash protocolState { consensusState { blockHeight } } winnerAccount { publicKey } creatorAccount { publicKey } transactions { coinbase } } }\n",
      "using: https://graphql.minaexplorer.com/\n",
      "{'data': {'blocks': [{'creatorAccount': {'publicKey': 'B62qjCuPisQjLW7YkB22BR9KieSmUZTyApftqxsAuB3U21r3vj1YnaG'}, 'protocolState': {'consensusState': {'blockHeight': 168}}, 'stateHash': '3NLnSEG1RWsTRifrn5kNdSGBCijXXjMRmdHKAp39kfuNQ21vTttv', 'transactions': {'coinbase': '720000000000'}, 'winnerAccount': {'publicKey': 'B62qjpLh6MJqKkrJxtfVuqcZ6nkPG7oKRaqLcuwLEf9k2SSgtHgcYh2'}}]}}\n"
     ]
    }
   ],
   "source": [
    "some_query = \"\"\"query {\n",
    "  blocks(limit: 1, sortBy: DATETIME_DESC, query:{canonical: true}) {\n",
    "    stateHash\n",
    "    protocolState {\n",
    "      consensusState {\n",
    "        blockHeight\n",
    "      }\n",
    "    }\n",
    "    winnerAccount {\n",
    "      publicKey\n",
    "    }\n",
    "    creatorAccount {\n",
    "      publicKey\n",
    "    }\n",
    "    transactions {\n",
    "      coinbase\n",
    "    }\n",
    "  }\n",
    "}\"\"\"\n",
    "\n",
    "res = mina_client.send_any_query(some_query)"
   ]
  },
  {
   "cell_type": "code",
   "execution_count": 83,
   "id": "similar-leonard",
   "metadata": {
    "ExecuteTime": {
     "end_time": "2021-03-17T11:54:17.288360Z",
     "start_time": "2021-03-17T11:54:17.268315Z"
    }
   },
   "outputs": [
    {
     "data": {
      "text/plain": [
       "{'data': {'blocks': [{'creatorAccount': {'publicKey': 'B62qjCuPisQjLW7YkB22BR9KieSmUZTyApftqxsAuB3U21r3vj1YnaG'},\n",
       "    'protocolState': {'consensusState': {'blockHeight': 168}},\n",
       "    'stateHash': '3NLnSEG1RWsTRifrn5kNdSGBCijXXjMRmdHKAp39kfuNQ21vTttv',\n",
       "    'transactions': {'coinbase': '720000000000'},\n",
       "    'winnerAccount': {'publicKey': 'B62qjpLh6MJqKkrJxtfVuqcZ6nkPG7oKRaqLcuwLEf9k2SSgtHgcYh2'}}]}}"
      ]
     },
     "execution_count": 83,
     "metadata": {},
     "output_type": "execute_result"
    }
   ],
   "source": [
    "res"
   ]
  },
  {
   "cell_type": "code",
   "execution_count": null,
   "id": "operating-decision",
   "metadata": {},
   "outputs": [],
   "source": []
  },
  {
   "cell_type": "code",
   "execution_count": null,
   "id": "informed-arkansas",
   "metadata": {},
   "outputs": [],
   "source": []
  },
  {
   "cell_type": "code",
   "execution_count": 51,
   "id": "computational-property",
   "metadata": {
    "ExecuteTime": {
     "end_time": "2021-03-17T11:23:27.741707Z",
     "start_time": "2021-03-17T11:23:26.499231Z"
    }
   },
   "outputs": [
    {
     "name": "stderr",
     "output_type": "stream",
     "text": [
      "GraphQL query failed with 1 errors\n"
     ]
    }
   ],
   "source": [
    "from sgqlc.endpoint.http import HTTPEndpoint\n",
    "\n",
    "url = 'https://minagraph.com/graphql'\n",
    "url = 'https://graphql.minaexplorer.com/'\n",
    "headers = {'Authorization': 'bearer TOKEN',\n",
    "          \"User-Agent\":\"Mozilla/5.0 (Macintosh; Intel Mac OS X 10_15_4) AppleWebKit/537.36 (KHTML, like Gecko) Chrome/83.0.4103.97 Safari/537.36\"}\n",
    "\n",
    "query = \"\"\"query {\n",
    "  blocks(limit: 1, sortBy: DATETIME_DESC, query:{canonical: true}) {\n",
    "    stateHash\n",
    "    protocolState {\n",
    "      consensusState {\n",
    "        blockHeight\n",
    "      }\n",
    "    }\n",
    "    winnerAccount {\n",
    "      publicKey\n",
    "    }\n",
    "    creatorAccount {\n",
    "      publicKey\n",
    "    }\n",
    "    transactions {\n",
    "      coinbase\n",
    "    }\n",
    "  }\n",
    "}\"\"\"\n",
    "variables = {'varName': 'value'}\n",
    "variables = {}\n",
    "\n",
    "\n",
    "endpoint = HTTPEndpoint(url, headers)\n",
    "data = endpoint(inttro_query, variables)"
   ]
  },
  {
   "cell_type": "code",
   "execution_count": 52,
   "id": "varied-swift",
   "metadata": {
    "ExecuteTime": {
     "end_time": "2021-03-17T11:23:28.700390Z",
     "start_time": "2021-03-17T11:23:28.680258Z"
    }
   },
   "outputs": [
    {
     "data": {
      "text/plain": [
       "{'data': None,\n",
       " 'errors': [{'message': 'Variable \"$includeDescription\" of required type \"Boolean!\" was not provided.',\n",
       "   'locations': [{'line': 3, 'column': 3}]}]}"
      ]
     },
     "execution_count": 52,
     "metadata": {},
     "output_type": "execute_result"
    }
   ],
   "source": [
    "data"
   ]
  },
  {
   "cell_type": "code",
   "execution_count": 46,
   "id": "agreed-vacation",
   "metadata": {
    "ExecuteTime": {
     "end_time": "2021-03-17T11:21:04.046779Z",
     "start_time": "2021-03-17T11:21:04.027761Z"
    }
   },
   "outputs": [
    {
     "data": {
      "text/plain": [
       "{'User-Agent': 'Mozilla/5.0 (Macintosh; Intel Mac OS X 10_15_4) AppleWebKit/537.36 (KHTML, like Gecko) Chrome/83.0.4103.97 Safari/537.36'}"
      ]
     },
     "execution_count": 46,
     "metadata": {},
     "output_type": "execute_result"
    }
   ],
   "source": [
    "headers"
   ]
  },
  {
   "cell_type": "code",
   "execution_count": null,
   "id": "fluid-poison",
   "metadata": {},
   "outputs": [],
   "source": []
  },
  {
   "cell_type": "code",
   "execution_count": null,
   "id": "dental-pakistan",
   "metadata": {},
   "outputs": [],
   "source": []
  },
  {
   "cell_type": "code",
   "execution_count": 12,
   "id": "serious-retail",
   "metadata": {
    "ExecuteTime": {
     "end_time": "2021-03-17T10:36:12.351511Z",
     "start_time": "2021-03-17T10:36:12.320413Z"
    }
   },
   "outputs": [],
   "source": [
    "import sys\n",
    "sys.path.append('/Users/bakebrain/src')\n",
    "\n",
    "from mina.MinaClient import Client, Currency\n",
    "import json"
   ]
  },
  {
   "cell_type": "code",
   "execution_count": 68,
   "id": "reserved-duplicate",
   "metadata": {
    "ExecuteTime": {
     "end_time": "2021-03-17T11:48:32.836345Z",
     "start_time": "2021-03-17T11:48:32.818886Z"
    }
   },
   "outputs": [],
   "source": [
    "GRAPHQL_HOST = 'graphql.minaexplorer.com'\n",
    "GRAPHQL_PORT = '80'\n",
    "\n",
    "mina_client = Client(graphql_host=GRAPHQL_HOST, graphql_port='', graphql_path='',\n",
    "                    graphql_protocol='https')"
   ]
  },
  {
   "cell_type": "code",
   "execution_count": 69,
   "id": "pregnant-charter",
   "metadata": {
    "ExecuteTime": {
     "end_time": "2021-03-17T11:48:35.515579Z",
     "start_time": "2021-03-17T11:48:35.493623Z"
    }
   },
   "outputs": [
    {
     "data": {
      "text/plain": [
       "'https://graphql.minaexplorer.com:'"
      ]
     },
     "execution_count": 69,
     "metadata": {},
     "output_type": "execute_result"
    }
   ],
   "source": [
    "mina_client.endpoint \n"
   ]
  },
  {
   "cell_type": "code",
   "execution_count": 70,
   "id": "suffering-myrtle",
   "metadata": {
    "ExecuteTime": {
     "end_time": "2021-03-17T11:48:44.983614Z",
     "start_time": "2021-03-17T11:48:44.965768Z"
    }
   },
   "outputs": [],
   "source": [
    "mina_client.endpoint = 'https://graphql.minaexplorer.com/'"
   ]
  },
  {
   "cell_type": "code",
   "execution_count": 71,
   "id": "involved-activation",
   "metadata": {
    "ExecuteTime": {
     "end_time": "2021-03-17T11:48:48.063985Z",
     "start_time": "2021-03-17T11:48:48.044981Z"
    }
   },
   "outputs": [
    {
     "data": {
      "text/plain": [
       "'https://graphql.minaexplorer.com/'"
      ]
     },
     "execution_count": 71,
     "metadata": {},
     "output_type": "execute_result"
    }
   ],
   "source": [
    "mina_client.endpoint \n"
   ]
  },
  {
   "cell_type": "code",
   "execution_count": null,
   "id": "touched-official",
   "metadata": {},
   "outputs": [],
   "source": [
    "mina_client.send_any_query()"
   ]
  },
  {
   "cell_type": "code",
   "execution_count": 72,
   "id": "comparative-barrel",
   "metadata": {
    "ExecuteTime": {
     "end_time": "2021-03-17T11:49:41.074359Z",
     "start_time": "2021-03-17T11:49:41.056365Z"
    }
   },
   "outputs": [],
   "source": [
    "some_query = \"\"\"query {\n",
    "  blocks(limit: 1, sortBy: DATETIME_DESC, query:{canonical: true}) {\n",
    "    stateHash\n",
    "    protocolState {\n",
    "      consensusState {\n",
    "        blockHeight\n",
    "      }\n",
    "    }\n",
    "    winnerAccount {\n",
    "      publicKey\n",
    "    }\n",
    "    creatorAccount {\n",
    "      publicKey\n",
    "    }\n",
    "    transactions {\n",
    "      coinbase\n",
    "    }\n",
    "  }\n",
    "}\"\"\""
   ]
  },
  {
   "cell_type": "code",
   "execution_count": 76,
   "id": "filled-david",
   "metadata": {
    "ExecuteTime": {
     "end_time": "2021-03-17T11:51:24.375257Z",
     "start_time": "2021-03-17T11:51:23.059490Z"
    }
   },
   "outputs": [
    {
     "name": "stdout",
     "output_type": "stream",
     "text": [
      "query { blocks(limit: 1, sortBy: DATETIME_DESC, query:{canonical: true}) { stateHash protocolState { consensusState { blockHeight } } winnerAccount { publicKey } creatorAccount { publicKey } transactions { coinbase } } }\n",
      "using: https://graphql.minaexplorer.com/\n",
      "{'data': {'blocks': [{'creatorAccount': {'publicKey': 'B62qpLST3UC1rpVT6SHfB7wqW2iQgiopFAGfrcovPgLjgfpDUN2LLeg'}, 'protocolState': {'consensusState': {'blockHeight': 167}}, 'stateHash': '3NLphTnhBsHxSySQajJVTsoMTHRzCXtWcR1Xg5BwH2B44ktbfk7F', 'transactions': {'coinbase': '720000000000'}, 'winnerAccount': {'publicKey': 'B62qpBVRzjqFcbzMk3JAFdjruMAoqdHyHiE9XNyshZ5NjGo2gY7CxZz'}}]}}\n"
     ]
    },
    {
     "data": {
      "text/plain": [
       "{'data': {'blocks': [{'creatorAccount': {'publicKey': 'B62qpLST3UC1rpVT6SHfB7wqW2iQgiopFAGfrcovPgLjgfpDUN2LLeg'},\n",
       "    'protocolState': {'consensusState': {'blockHeight': 167}},\n",
       "    'stateHash': '3NLphTnhBsHxSySQajJVTsoMTHRzCXtWcR1Xg5BwH2B44ktbfk7F',\n",
       "    'transactions': {'coinbase': '720000000000'},\n",
       "    'winnerAccount': {'publicKey': 'B62qpBVRzjqFcbzMk3JAFdjruMAoqdHyHiE9XNyshZ5NjGo2gY7CxZz'}}]}}"
      ]
     },
     "execution_count": 76,
     "metadata": {},
     "output_type": "execute_result"
    }
   ],
   "source": [
    "mina_client.send_any_query(some_query)"
   ]
  },
  {
   "cell_type": "code",
   "execution_count": 75,
   "id": "harmful-north",
   "metadata": {
    "ExecuteTime": {
     "end_time": "2021-03-17T11:50:47.302540Z",
     "start_time": "2021-03-17T11:50:47.283042Z"
    }
   },
   "outputs": [
    {
     "data": {
      "text/plain": [
       "'https://graphql.minaexplorer.com/'"
      ]
     },
     "execution_count": 75,
     "metadata": {},
     "output_type": "execute_result"
    }
   ],
   "source": [
    "mina_client.endpoint"
   ]
  },
  {
   "cell_type": "code",
   "execution_count": null,
   "id": "compliant-patio",
   "metadata": {},
   "outputs": [],
   "source": []
  },
  {
   "cell_type": "code",
   "execution_count": 16,
   "id": "toxic-preview",
   "metadata": {
    "ExecuteTime": {
     "end_time": "2021-03-17T10:36:35.739983Z",
     "start_time": "2021-03-17T10:36:34.464753Z"
    }
   },
   "outputs": [
    {
     "name": "stdout",
     "output_type": "stream",
     "text": [
      "query IntrospectionQuery( $includeDescription: Boolean!, $includeDeprecated: Boolean!, ) { __schema { queryType { name } mutationType { name } subscriptionType { name } types { ...FullType } directives { name description @include(if: $includeDescription) locations args { ...InputValue } } } } fragment FullType on __Type { kind name description @include(if: $includeDescription) fields(includeDeprecated: $includeDeprecated) { name description @include(if: $includeDescription) args { ...InputValue } type { ...TypeRef } isDeprecated @include(if: $includeDeprecated) deprecationReason @include(if: $includeDeprecated) } inputFields { ...InputValue } interfaces { ...TypeRef } enumValues(includeDeprecated: $includeDeprecated) { name description @include(if: $includeDescription) isDeprecated @include(if: $includeDeprecated) deprecationReason @include(if: $includeDeprecated) } possibleTypes { ...TypeRef } } fragment InputValue on __InputValue { name description @include(if: $includeDescription) type { ...TypeRef } defaultValue } fragment TypeRef on __Type { kind name ofType { kind name ofType { kind name ofType { kind name ofType { kind name ofType { kind name ofType { kind name ofType { kind name } } } } } } } }\n"
     ]
    },
    {
     "ename": "JSONDecodeError",
     "evalue": "Expecting value: line 1 column 1 (char 0)",
     "output_type": "error",
     "traceback": [
      "\u001b[0;31m---------------------------------------------------------------------------\u001b[0m",
      "\u001b[0;31mJSONDecodeError\u001b[0m                           Traceback (most recent call last)",
      "\u001b[0;32m<ipython-input-16-765c4dd0d283>\u001b[0m in \u001b[0;36m<module>\u001b[0;34m\u001b[0m\n\u001b[1;32m      1\u001b[0m \u001b[0mvariables\u001b[0m \u001b[0;34m=\u001b[0m \u001b[0;34m{\u001b[0m\u001b[0;34m\"includeDescription\"\u001b[0m\u001b[0;34m:\u001b[0m \u001b[0;32mTrue\u001b[0m\u001b[0;34m,\u001b[0m \u001b[0;34m\"includeDeprecated\"\u001b[0m\u001b[0;34m:\u001b[0m \u001b[0;32mFalse\u001b[0m\u001b[0;34m}\u001b[0m\u001b[0;34m\u001b[0m\u001b[0;34m\u001b[0m\u001b[0m\n\u001b[1;32m      2\u001b[0m \u001b[0;34m\u001b[0m\u001b[0m\n\u001b[0;32m----> 3\u001b[0;31m \u001b[0mmina_exp__schema\u001b[0m \u001b[0;34m=\u001b[0m \u001b[0mmina_client\u001b[0m\u001b[0;34m.\u001b[0m\u001b[0msend_any_query\u001b[0m\u001b[0;34m(\u001b[0m\u001b[0mquery\u001b[0m\u001b[0;34m,\u001b[0m \u001b[0mvariables\u001b[0m\u001b[0;34m=\u001b[0m\u001b[0mvariables\u001b[0m\u001b[0;34m)\u001b[0m\u001b[0;34m\u001b[0m\u001b[0;34m\u001b[0m\u001b[0m\n\u001b[0m",
      "\u001b[0;32m~/src/mina/MinaClient.py\u001b[0m in \u001b[0;36msend_any_query\u001b[0;34m(self, query, variables)\u001b[0m\n\u001b[1;32m    671\u001b[0m             \u001b[0mres\u001b[0m \u001b[0;34m=\u001b[0m \u001b[0mself\u001b[0m\u001b[0;34m.\u001b[0m\u001b[0m_send_sgqlc_query\u001b[0m\u001b[0;34m(\u001b[0m\u001b[0mquery\u001b[0m\u001b[0;34m)\u001b[0m\u001b[0;34m\u001b[0m\u001b[0;34m\u001b[0m\u001b[0m\n\u001b[1;32m    672\u001b[0m         \u001b[0;32melse\u001b[0m\u001b[0;34m:\u001b[0m\u001b[0;34m\u001b[0m\u001b[0;34m\u001b[0m\u001b[0m\n\u001b[0;32m--> 673\u001b[0;31m             \u001b[0mres\u001b[0m \u001b[0;34m=\u001b[0m \u001b[0mself\u001b[0m\u001b[0;34m.\u001b[0m\u001b[0m_send_query\u001b[0m\u001b[0;34m(\u001b[0m\u001b[0mquery\u001b[0m\u001b[0;34m,\u001b[0m \u001b[0mvariables\u001b[0m\u001b[0;34m)\u001b[0m\u001b[0;34m\u001b[0m\u001b[0;34m\u001b[0m\u001b[0m\n\u001b[0m\u001b[1;32m    674\u001b[0m         \u001b[0;32mreturn\u001b[0m \u001b[0mres\u001b[0m\u001b[0;34m\u001b[0m\u001b[0;34m\u001b[0m\u001b[0m\n\u001b[1;32m    675\u001b[0m \u001b[0;34m\u001b[0m\u001b[0m\n",
      "\u001b[0;32m~/src/mina/MinaClient.py\u001b[0m in \u001b[0;36m_send_query\u001b[0;34m(self, query, variables)\u001b[0m\n\u001b[1;32m    224\u001b[0m             \u001b[0mdict\u001b[0m \u001b[0;34m-\u001b[0m\u001b[0;34m-\u001b[0m \u001b[0mA\u001b[0m \u001b[0mResponse\u001b[0m \u001b[0mobject\u001b[0m \u001b[0;32mfrom\u001b[0m \u001b[0mthe\u001b[0m \u001b[0mGraphQL\u001b[0m \u001b[0mServer\u001b[0m\u001b[0;34m.\u001b[0m\u001b[0;34m\u001b[0m\u001b[0;34m\u001b[0m\u001b[0m\n\u001b[1;32m    225\u001b[0m         \"\"\"\n\u001b[0;32m--> 226\u001b[0;31m         \u001b[0;32mreturn\u001b[0m \u001b[0mself\u001b[0m\u001b[0;34m.\u001b[0m\u001b[0m_graphql_request\u001b[0m\u001b[0;34m(\u001b[0m\u001b[0mquery\u001b[0m\u001b[0;34m,\u001b[0m \u001b[0mvariables\u001b[0m\u001b[0;34m)\u001b[0m\u001b[0;34m\u001b[0m\u001b[0;34m\u001b[0m\u001b[0m\n\u001b[0m\u001b[1;32m    227\u001b[0m \u001b[0;34m\u001b[0m\u001b[0m\n\u001b[1;32m    228\u001b[0m     \u001b[0;32mdef\u001b[0m \u001b[0m_send_mutation\u001b[0m\u001b[0;34m(\u001b[0m\u001b[0mself\u001b[0m\u001b[0;34m,\u001b[0m \u001b[0mquery\u001b[0m\u001b[0;34m:\u001b[0m \u001b[0mstr\u001b[0m\u001b[0;34m,\u001b[0m \u001b[0mvariables\u001b[0m\u001b[0;34m:\u001b[0m \u001b[0mdict\u001b[0m \u001b[0;34m=\u001b[0m \u001b[0;34m{\u001b[0m\u001b[0;34m}\u001b[0m\u001b[0;34m)\u001b[0m \u001b[0;34m->\u001b[0m \u001b[0mdict\u001b[0m\u001b[0;34m:\u001b[0m\u001b[0;34m\u001b[0m\u001b[0;34m\u001b[0m\u001b[0m\n",
      "\u001b[0;32m~/src/mina/MinaClient.py\u001b[0m in \u001b[0;36m_graphql_request\u001b[0;34m(self, query, variables)\u001b[0m\n\u001b[1;32m    268\u001b[0m         \u001b[0mself\u001b[0m\u001b[0;34m.\u001b[0m\u001b[0mlogger\u001b[0m\u001b[0;34m.\u001b[0m\u001b[0mdebug\u001b[0m\u001b[0;34m(\u001b[0m\u001b[0;34m\"Sending a Query: {}\"\u001b[0m\u001b[0;34m.\u001b[0m\u001b[0mformat\u001b[0m\u001b[0;34m(\u001b[0m\u001b[0mpayload\u001b[0m\u001b[0;34m)\u001b[0m\u001b[0;34m)\u001b[0m\u001b[0;34m\u001b[0m\u001b[0;34m\u001b[0m\u001b[0m\n\u001b[1;32m    269\u001b[0m         \u001b[0mresponse\u001b[0m \u001b[0;34m=\u001b[0m \u001b[0mrequests\u001b[0m\u001b[0;34m.\u001b[0m\u001b[0mpost\u001b[0m\u001b[0;34m(\u001b[0m\u001b[0mself\u001b[0m\u001b[0;34m.\u001b[0m\u001b[0mendpoint\u001b[0m\u001b[0;34m,\u001b[0m \u001b[0mjson\u001b[0m\u001b[0;34m=\u001b[0m\u001b[0mpayload\u001b[0m\u001b[0;34m,\u001b[0m \u001b[0mheaders\u001b[0m\u001b[0;34m=\u001b[0m\u001b[0mheaders\u001b[0m\u001b[0;34m)\u001b[0m\u001b[0;34m\u001b[0m\u001b[0;34m\u001b[0m\u001b[0m\n\u001b[0;32m--> 270\u001b[0;31m         \u001b[0mresp_json\u001b[0m \u001b[0;34m=\u001b[0m \u001b[0mresponse\u001b[0m\u001b[0;34m.\u001b[0m\u001b[0mjson\u001b[0m\u001b[0;34m(\u001b[0m\u001b[0;34m)\u001b[0m\u001b[0;34m\u001b[0m\u001b[0;34m\u001b[0m\u001b[0m\n\u001b[0m\u001b[1;32m    271\u001b[0m \u001b[0;34m\u001b[0m\u001b[0m\n\u001b[1;32m    272\u001b[0m         \u001b[0mprint\u001b[0m\u001b[0;34m(\u001b[0m\u001b[0mresp_json\u001b[0m\u001b[0;34m)\u001b[0m\u001b[0;34m\u001b[0m\u001b[0;34m\u001b[0m\u001b[0m\n",
      "\u001b[0;32m~/anaconda3/envs/telebot/lib/python3.8/site-packages/requests/models.py\u001b[0m in \u001b[0;36mjson\u001b[0;34m(self, **kwargs)\u001b[0m\n\u001b[1;32m    898\u001b[0m                     \u001b[0;31m# used.\u001b[0m\u001b[0;34m\u001b[0m\u001b[0;34m\u001b[0m\u001b[0;34m\u001b[0m\u001b[0m\n\u001b[1;32m    899\u001b[0m                     \u001b[0;32mpass\u001b[0m\u001b[0;34m\u001b[0m\u001b[0;34m\u001b[0m\u001b[0m\n\u001b[0;32m--> 900\u001b[0;31m         \u001b[0;32mreturn\u001b[0m \u001b[0mcomplexjson\u001b[0m\u001b[0;34m.\u001b[0m\u001b[0mloads\u001b[0m\u001b[0;34m(\u001b[0m\u001b[0mself\u001b[0m\u001b[0;34m.\u001b[0m\u001b[0mtext\u001b[0m\u001b[0;34m,\u001b[0m \u001b[0;34m**\u001b[0m\u001b[0mkwargs\u001b[0m\u001b[0;34m)\u001b[0m\u001b[0;34m\u001b[0m\u001b[0;34m\u001b[0m\u001b[0m\n\u001b[0m\u001b[1;32m    901\u001b[0m \u001b[0;34m\u001b[0m\u001b[0m\n\u001b[1;32m    902\u001b[0m     \u001b[0;34m@\u001b[0m\u001b[0mproperty\u001b[0m\u001b[0;34m\u001b[0m\u001b[0;34m\u001b[0m\u001b[0m\n",
      "\u001b[0;32m~/anaconda3/envs/telebot/lib/python3.8/json/__init__.py\u001b[0m in \u001b[0;36mloads\u001b[0;34m(s, cls, object_hook, parse_float, parse_int, parse_constant, object_pairs_hook, **kw)\u001b[0m\n\u001b[1;32m    355\u001b[0m             \u001b[0mparse_int\u001b[0m \u001b[0;32mis\u001b[0m \u001b[0;32mNone\u001b[0m \u001b[0;32mand\u001b[0m \u001b[0mparse_float\u001b[0m \u001b[0;32mis\u001b[0m \u001b[0;32mNone\u001b[0m \u001b[0;32mand\u001b[0m\u001b[0;34m\u001b[0m\u001b[0;34m\u001b[0m\u001b[0m\n\u001b[1;32m    356\u001b[0m             parse_constant is None and object_pairs_hook is None and not kw):\n\u001b[0;32m--> 357\u001b[0;31m         \u001b[0;32mreturn\u001b[0m \u001b[0m_default_decoder\u001b[0m\u001b[0;34m.\u001b[0m\u001b[0mdecode\u001b[0m\u001b[0;34m(\u001b[0m\u001b[0ms\u001b[0m\u001b[0;34m)\u001b[0m\u001b[0;34m\u001b[0m\u001b[0;34m\u001b[0m\u001b[0m\n\u001b[0m\u001b[1;32m    358\u001b[0m     \u001b[0;32mif\u001b[0m \u001b[0mcls\u001b[0m \u001b[0;32mis\u001b[0m \u001b[0;32mNone\u001b[0m\u001b[0;34m:\u001b[0m\u001b[0;34m\u001b[0m\u001b[0;34m\u001b[0m\u001b[0m\n\u001b[1;32m    359\u001b[0m         \u001b[0mcls\u001b[0m \u001b[0;34m=\u001b[0m \u001b[0mJSONDecoder\u001b[0m\u001b[0;34m\u001b[0m\u001b[0;34m\u001b[0m\u001b[0m\n",
      "\u001b[0;32m~/anaconda3/envs/telebot/lib/python3.8/json/decoder.py\u001b[0m in \u001b[0;36mdecode\u001b[0;34m(self, s, _w)\u001b[0m\n\u001b[1;32m    335\u001b[0m \u001b[0;34m\u001b[0m\u001b[0m\n\u001b[1;32m    336\u001b[0m         \"\"\"\n\u001b[0;32m--> 337\u001b[0;31m         \u001b[0mobj\u001b[0m\u001b[0;34m,\u001b[0m \u001b[0mend\u001b[0m \u001b[0;34m=\u001b[0m \u001b[0mself\u001b[0m\u001b[0;34m.\u001b[0m\u001b[0mraw_decode\u001b[0m\u001b[0;34m(\u001b[0m\u001b[0ms\u001b[0m\u001b[0;34m,\u001b[0m \u001b[0midx\u001b[0m\u001b[0;34m=\u001b[0m\u001b[0m_w\u001b[0m\u001b[0;34m(\u001b[0m\u001b[0ms\u001b[0m\u001b[0;34m,\u001b[0m \u001b[0;36m0\u001b[0m\u001b[0;34m)\u001b[0m\u001b[0;34m.\u001b[0m\u001b[0mend\u001b[0m\u001b[0;34m(\u001b[0m\u001b[0;34m)\u001b[0m\u001b[0;34m)\u001b[0m\u001b[0;34m\u001b[0m\u001b[0;34m\u001b[0m\u001b[0m\n\u001b[0m\u001b[1;32m    338\u001b[0m         \u001b[0mend\u001b[0m \u001b[0;34m=\u001b[0m \u001b[0m_w\u001b[0m\u001b[0;34m(\u001b[0m\u001b[0ms\u001b[0m\u001b[0;34m,\u001b[0m \u001b[0mend\u001b[0m\u001b[0;34m)\u001b[0m\u001b[0;34m.\u001b[0m\u001b[0mend\u001b[0m\u001b[0;34m(\u001b[0m\u001b[0;34m)\u001b[0m\u001b[0;34m\u001b[0m\u001b[0;34m\u001b[0m\u001b[0m\n\u001b[1;32m    339\u001b[0m         \u001b[0;32mif\u001b[0m \u001b[0mend\u001b[0m \u001b[0;34m!=\u001b[0m \u001b[0mlen\u001b[0m\u001b[0;34m(\u001b[0m\u001b[0ms\u001b[0m\u001b[0;34m)\u001b[0m\u001b[0;34m:\u001b[0m\u001b[0;34m\u001b[0m\u001b[0;34m\u001b[0m\u001b[0m\n",
      "\u001b[0;32m~/anaconda3/envs/telebot/lib/python3.8/json/decoder.py\u001b[0m in \u001b[0;36mraw_decode\u001b[0;34m(self, s, idx)\u001b[0m\n\u001b[1;32m    353\u001b[0m             \u001b[0mobj\u001b[0m\u001b[0;34m,\u001b[0m \u001b[0mend\u001b[0m \u001b[0;34m=\u001b[0m \u001b[0mself\u001b[0m\u001b[0;34m.\u001b[0m\u001b[0mscan_once\u001b[0m\u001b[0;34m(\u001b[0m\u001b[0ms\u001b[0m\u001b[0;34m,\u001b[0m \u001b[0midx\u001b[0m\u001b[0;34m)\u001b[0m\u001b[0;34m\u001b[0m\u001b[0;34m\u001b[0m\u001b[0m\n\u001b[1;32m    354\u001b[0m         \u001b[0;32mexcept\u001b[0m \u001b[0mStopIteration\u001b[0m \u001b[0;32mas\u001b[0m \u001b[0merr\u001b[0m\u001b[0;34m:\u001b[0m\u001b[0;34m\u001b[0m\u001b[0;34m\u001b[0m\u001b[0m\n\u001b[0;32m--> 355\u001b[0;31m             \u001b[0;32mraise\u001b[0m \u001b[0mJSONDecodeError\u001b[0m\u001b[0;34m(\u001b[0m\u001b[0;34m\"Expecting value\"\u001b[0m\u001b[0;34m,\u001b[0m \u001b[0ms\u001b[0m\u001b[0;34m,\u001b[0m \u001b[0merr\u001b[0m\u001b[0;34m.\u001b[0m\u001b[0mvalue\u001b[0m\u001b[0;34m)\u001b[0m \u001b[0;32mfrom\u001b[0m \u001b[0;32mNone\u001b[0m\u001b[0;34m\u001b[0m\u001b[0;34m\u001b[0m\u001b[0m\n\u001b[0m\u001b[1;32m    356\u001b[0m         \u001b[0;32mreturn\u001b[0m \u001b[0mobj\u001b[0m\u001b[0;34m,\u001b[0m \u001b[0mend\u001b[0m\u001b[0;34m\u001b[0m\u001b[0;34m\u001b[0m\u001b[0m\n",
      "\u001b[0;31mJSONDecodeError\u001b[0m: Expecting value: line 1 column 1 (char 0)"
     ]
    }
   ],
   "source": [
    "variables = {\"includeDescription\": True, \"includeDeprecated\": False}\n",
    "\n",
    "mina_exp__schema = mina_client.send_any_query(query, variables=variables)"
   ]
  },
  {
   "cell_type": "code",
   "execution_count": 22,
   "id": "prospective-marker",
   "metadata": {
    "ExecuteTime": {
     "end_time": "2021-03-14T11:49:20.627510Z",
     "start_time": "2021-03-14T11:49:20.566090Z"
    }
   },
   "outputs": [],
   "source": [
    "with open('mina_schema.json', 'w') as f:\n",
    "    json.dump(mina_schema, f, sort_keys=True, indent=2, default=str)"
   ]
  },
  {
   "cell_type": "code",
   "execution_count": 23,
   "id": "incorporate-trustee",
   "metadata": {
    "ExecuteTime": {
     "end_time": "2021-03-14T11:49:23.355178Z",
     "start_time": "2021-03-14T11:49:23.024797Z"
    }
   },
   "outputs": [],
   "source": [
    "!sgqlc-codegen schema mina_schema.json mina_schema.py"
   ]
  },
  {
   "cell_type": "code",
   "execution_count": null,
   "id": "popular-disposal",
   "metadata": {},
   "outputs": [],
   "source": []
  }
 ],
 "metadata": {
  "kernelspec": {
   "display_name": "Python 3",
   "language": "python",
   "name": "python3"
  },
  "language_info": {
   "codemirror_mode": {
    "name": "ipython",
    "version": 3
   },
   "file_extension": ".py",
   "mimetype": "text/x-python",
   "name": "python",
   "nbconvert_exporter": "python",
   "pygments_lexer": "ipython3",
   "version": "3.8.5"
  }
 },
 "nbformat": 4,
 "nbformat_minor": 5
}
