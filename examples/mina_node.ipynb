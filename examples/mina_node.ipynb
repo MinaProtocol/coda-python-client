{
 "cells": [
  {
   "cell_type": "code",
   "execution_count": 90,
   "id": "lasting-catalog",
   "metadata": {
    "ExecuteTime": {
     "end_time": "2021-04-16T11:11:49.143405Z",
     "start_time": "2021-04-16T11:11:49.120781Z"
    }
   },
   "outputs": [
    {
     "name": "stdout",
     "output_type": "stream",
     "text": [
      "The blackcellmagic extension is already loaded. To reload it, use:\n",
      "  %reload_ext blackcellmagic\n",
      "The autoreload extension is already loaded. To reload it, use:\n",
      "  %reload_ext autoreload\n"
     ]
    }
   ],
   "source": [
    "%load_ext blackcellmagic\n",
    "%load_ext autoreload\n",
    "%autoreload 2"
   ]
  },
  {
   "cell_type": "markdown",
   "id": "pending-maryland",
   "metadata": {},
   "source": [
    "# example queries"
   ]
  },
  {
   "cell_type": "code",
   "execution_count": 91,
   "id": "patent-serbia",
   "metadata": {
    "ExecuteTime": {
     "end_time": "2021-04-16T11:11:49.508222Z",
     "start_time": "2021-04-16T11:11:49.485561Z"
    }
   },
   "outputs": [],
   "source": [
    "from MinaClient import Client"
   ]
  },
  {
   "cell_type": "code",
   "execution_count": 92,
   "id": "iraqi-adapter",
   "metadata": {
    "ExecuteTime": {
     "end_time": "2021-04-16T11:11:49.886936Z",
     "start_time": "2021-04-16T11:11:49.858485Z"
    }
   },
   "outputs": [],
   "source": [
    "GRAPHQL_HOST = \"127.0.0.1\"\n",
    "GRAPHQL_PORT = \"3085\"\n",
    "\n",
    "mina_client = Client(graphql_host=GRAPHQL_HOST, graphql_port=GRAPHQL_PORT)"
   ]
  },
  {
   "cell_type": "code",
   "execution_count": 93,
   "id": "wireless-garlic",
   "metadata": {
    "ExecuteTime": {
     "end_time": "2021-04-16T11:11:50.534454Z",
     "start_time": "2021-04-16T11:11:50.302665Z"
    }
   },
   "outputs": [],
   "source": [
    "daemon_status = mina_client.get_daemon_status()"
   ]
  },
  {
   "cell_type": "code",
   "execution_count": 94,
   "id": "valuable-munich",
   "metadata": {
    "ExecuteTime": {
     "end_time": "2021-04-16T11:11:51.161907Z",
     "start_time": "2021-04-16T11:11:51.134654Z"
    }
   },
   "outputs": [
    {
     "data": {
      "text/plain": [
       "dict_keys(['numAccounts', 'blockchainLength', 'highestBlockLengthReceived', 'highestUnvalidatedBlockLengthReceived', 'uptimeSecs', 'ledgerMerkleRoot', 'stateHash', 'chainId', 'commitId', 'confDir', 'peers', 'userCommandsSent', 'snarkWorker', 'snarkWorkFee', 'syncStatus', 'catchupStatus', 'blockProductionKeys', 'consensusTimeBestTip', 'globalSlotSinceGenesisBestTip', 'nextBlockProduction', 'consensusTimeNow', 'consensusMechanism', 'consensusConfiguration', 'addrsAndPorts'])"
      ]
     },
     "execution_count": 94,
     "metadata": {},
     "output_type": "execute_result"
    }
   ],
   "source": [
    "daemon_status[\"daemonStatus\"].keys()"
   ]
  },
  {
   "cell_type": "code",
   "execution_count": 95,
   "id": "laughing-armor",
   "metadata": {
    "ExecuteTime": {
     "end_time": "2021-04-16T11:11:52.043488Z",
     "start_time": "2021-04-16T11:11:51.891804Z"
    }
   },
   "outputs": [
    {
     "data": {
      "text/plain": [
       "{'daemonStatus': {'syncStatus': 'SYNCED'}}"
      ]
     },
     "execution_count": 95,
     "metadata": {},
     "output_type": "execute_result"
    }
   ],
   "source": [
    "mina_client.get_sync_status()"
   ]
  },
  {
   "cell_type": "code",
   "execution_count": 96,
   "id": "ultimate-exception",
   "metadata": {
    "ExecuteTime": {
     "end_time": "2021-04-16T11:11:52.584916Z",
     "start_time": "2021-04-16T11:11:52.468599Z"
    }
   },
   "outputs": [
    {
     "data": {
      "text/plain": [
       "{'version': 'a42bdeef6b0c15ee34616e4df76c882b0c5c7c2a'}"
      ]
     },
     "execution_count": 96,
     "metadata": {},
     "output_type": "execute_result"
    }
   ],
   "source": [
    "mina_client.get_daemon_version()"
   ]
  },
  {
   "cell_type": "code",
   "execution_count": 97,
   "id": "current-tractor",
   "metadata": {
    "ExecuteTime": {
     "end_time": "2021-04-16T11:11:53.316444Z",
     "start_time": "2021-04-16T11:11:53.190948Z"
    }
   },
   "outputs": [
    {
     "data": {
      "text/plain": [
       "{'bestChain': [{'protocolState': {'previousStateHash': '3NKQk3NmYQraL89V1o9SNEh3BHV2FcFyCveZURPduh55o63KMbnE',\n",
       "    'blockchainState': {'date': '1618570980000',\n",
       "     'utcDate': '1618570980000',\n",
       "     'snarkedLedgerHash': 'jwaVR17CN6tcUSC8b5ZYYzJNyfTkNdBMbG7jhYoYSDW1CcAUmxz',\n",
       "     'stagedLedgerHash': 'jxqp4Xn4M3PMr3qeNL5LqC6DZhz3xNy2XfoyWXmBTd4F2KgHcER'},\n",
       "    'consensusState': {'blockchainLength': '10372',\n",
       "     'blockHeight': '10372',\n",
       "     'epochCount': '2',\n",
       "     'minWindowDensity': '43',\n",
       "     'lastVrfOutput': 'EiRtEGbP2qcCm7FDKG94kosHLdQMnXfwo4aw7mGUQx4qBjtD1Phab',\n",
       "     'totalCurrency': '813301372840039233',\n",
       "     'hasAncestorInSameCheckpointWindow': True,\n",
       "     'slot': '341',\n",
       "     'slotSinceGenesis': '14621',\n",
       "     'epoch': '2'}},\n",
       "   'stateHash': '3NLi2M3Cd3aUmz7sW7exZ75syptmL6nwqZVMvm3s28CytvrJsd8F'},\n",
       "  {'protocolState': {'previousStateHash': '3NLi2M3Cd3aUmz7sW7exZ75syptmL6nwqZVMvm3s28CytvrJsd8F',\n",
       "    'blockchainState': {'date': '1618571160000',\n",
       "     'utcDate': '1618571160000',\n",
       "     'snarkedLedgerHash': 'jwaVR17CN6tcUSC8b5ZYYzJNyfTkNdBMbG7jhYoYSDW1CcAUmxz',\n",
       "     'stagedLedgerHash': 'jxwTm9SUSdwH9HUap99jmBUiy5qBNdjgZNuD9gpXrAvjb2ZyKqY'},\n",
       "    'consensusState': {'blockchainLength': '10373',\n",
       "     'blockHeight': '10373',\n",
       "     'epochCount': '2',\n",
       "     'minWindowDensity': '43',\n",
       "     'lastVrfOutput': 'EiRrgA3z6a995oVWJe7q1ganPMxXDKn7ipP5bgExYxMucE41Z9quL',\n",
       "     'totalCurrency': '813301372840039233',\n",
       "     'hasAncestorInSameCheckpointWindow': True,\n",
       "     'slot': '342',\n",
       "     'slotSinceGenesis': '14622',\n",
       "     'epoch': '2'}},\n",
       "   'stateHash': '3NLXMsNv3xDd9vWCz3eCGYqarHSpr2Dfoy4nzJFewkosVmGeGFrH'}]}"
      ]
     },
     "execution_count": 97,
     "metadata": {},
     "output_type": "execute_result"
    }
   ],
   "source": [
    "mina_client.get_best_chain(max_length=2)"
   ]
  },
  {
   "cell_type": "code",
   "execution_count": null,
   "id": "disturbed-oregon",
   "metadata": {},
   "outputs": [],
   "source": []
  },
  {
   "cell_type": "markdown",
   "id": "stable-nashville",
   "metadata": {},
   "source": [
    "# custom daemon status query"
   ]
  },
  {
   "cell_type": "code",
   "execution_count": 98,
   "id": "center-register",
   "metadata": {
    "ExecuteTime": {
     "end_time": "2021-04-16T11:11:57.747930Z",
     "start_time": "2021-04-16T11:11:57.724687Z"
    }
   },
   "outputs": [],
   "source": [
    "from mina_schemas import mina_schema\n",
    "from sgqlc.operation import Operation"
   ]
  },
  {
   "cell_type": "code",
   "execution_count": 99,
   "id": "continuous-opposition",
   "metadata": {
    "ExecuteTime": {
     "end_time": "2021-04-16T11:11:58.201382Z",
     "start_time": "2021-04-16T11:11:58.038117Z"
    }
   },
   "outputs": [],
   "source": [
    "op = Operation(mina_schema.query)\n",
    "\n",
    "daemon_status = op.daemon_status()\n",
    "daemon_status.consensus_configuration()\n",
    "daemon_status.ledger_merkle_root()\n",
    "\n",
    "res = mina_client.send_any_query(op)"
   ]
  },
  {
   "cell_type": "code",
   "execution_count": 100,
   "id": "designing-skirt",
   "metadata": {
    "ExecuteTime": {
     "end_time": "2021-04-16T11:11:58.487167Z",
     "start_time": "2021-04-16T11:11:58.456488Z"
    }
   },
   "outputs": [
    {
     "data": {
      "text/plain": [
       "{'consensusConfiguration': {'delta': 0,\n",
       "  'k': 290,\n",
       "  'slotsPerEpoch': 7140,\n",
       "  'slotDuration': 180000,\n",
       "  'epochDuration': 1285200000,\n",
       "  'genesisStateTimestamp': '2021-03-17 01:00:00.000000+01:00',\n",
       "  'acceptableNetworkDelay': 180000},\n",
       " 'ledgerMerkleRoot': 'jxwTm9SUSdwH9HUap99jmBUiy5qBNdjgZNuD9gpXrAvjb2ZyKqY'}"
      ]
     },
     "execution_count": 100,
     "metadata": {},
     "output_type": "execute_result"
    }
   ],
   "source": [
    "res['data']['daemonStatus']"
   ]
  },
  {
   "cell_type": "code",
   "execution_count": null,
   "id": "crucial-cookie",
   "metadata": {},
   "outputs": [],
   "source": []
  },
  {
   "cell_type": "code",
   "execution_count": null,
   "id": "advised-wilson",
   "metadata": {},
   "outputs": [],
   "source": []
  }
 ],
 "metadata": {
  "kernelspec": {
   "display_name": "Python 3",
   "language": "python",
   "name": "python3"
  },
  "language_info": {
   "codemirror_mode": {
    "name": "ipython",
    "version": 3
   },
   "file_extension": ".py",
   "mimetype": "text/x-python",
   "name": "python",
   "nbconvert_exporter": "python",
   "pygments_lexer": "ipython3",
   "version": "3.8.5"
  }
 },
 "nbformat": 4,
 "nbformat_minor": 5
}
