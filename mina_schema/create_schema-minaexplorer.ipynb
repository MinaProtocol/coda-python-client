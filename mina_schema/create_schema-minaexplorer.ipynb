{
 "cells": [
  {
   "cell_type": "code",
   "execution_count": 1,
   "id": "floating-guatemala",
   "metadata": {
    "ExecuteTime": {
     "end_time": "2021-03-29T12:12:32.796463Z",
     "start_time": "2021-03-29T12:12:32.647244Z"
    }
   },
   "outputs": [],
   "source": [
    "%load_ext blackcellmagic\n",
    "%load_ext autoreload\n",
    "%autoreload 2"
   ]
  },
  {
   "cell_type": "code",
   "execution_count": 12,
   "id": "surgical-unknown",
   "metadata": {
    "ExecuteTime": {
     "end_time": "2021-03-29T12:13:33.809618Z",
     "start_time": "2021-03-29T12:13:33.794147Z"
    }
   },
   "outputs": [],
   "source": [
    "import sys\n",
    "import json\n",
    "sys.path.append('/Users/bakebrain/src')"
   ]
  },
  {
   "cell_type": "code",
   "execution_count": 13,
   "id": "hollywood-surveillance",
   "metadata": {
    "ExecuteTime": {
     "end_time": "2021-03-29T12:13:34.217929Z",
     "start_time": "2021-03-29T12:13:34.200508Z"
    }
   },
   "outputs": [],
   "source": [
    "from mina.MinaClient import Client\n",
    "from sgqlc.introspection import query as intro_query"
   ]
  },
  {
   "cell_type": "code",
   "execution_count": 14,
   "id": "stuck-sewing",
   "metadata": {
    "ExecuteTime": {
     "end_time": "2021-03-29T12:13:34.551325Z",
     "start_time": "2021-03-29T12:13:34.533446Z"
    }
   },
   "outputs": [],
   "source": [
    "mina_client = Client(endpoint='https://graphql.minaexplorer.com/')"
   ]
  },
  {
   "cell_type": "code",
   "execution_count": 15,
   "id": "careful-leather",
   "metadata": {
    "ExecuteTime": {
     "end_time": "2021-03-29T12:13:36.782654Z",
     "start_time": "2021-03-29T12:13:34.950667Z"
    }
   },
   "outputs": [
    {
     "name": "stdout",
     "output_type": "stream",
     "text": [
      "using: https://graphql.minaexplorer.com/\n"
     ]
    }
   ],
   "source": [
    "variables = {\"includeDescription\": True, \"includeDeprecated\": False}\n",
    "\n",
    "mina_exp_schema = mina_client.send_any_query(intro_query, variables=variables)"
   ]
  },
  {
   "cell_type": "code",
   "execution_count": 16,
   "id": "cardiac-pulse",
   "metadata": {
    "ExecuteTime": {
     "end_time": "2021-03-29T12:13:37.757277Z",
     "start_time": "2021-03-29T12:13:37.691873Z"
    }
   },
   "outputs": [],
   "source": [
    "with open('mina_explorer_schema.json', 'w') as f:\n",
    "    json.dump(mina_exp_schema, f, sort_keys=True, indent=2, default=str)"
   ]
  },
  {
   "cell_type": "code",
   "execution_count": 17,
   "id": "right-october",
   "metadata": {
    "ExecuteTime": {
     "end_time": "2021-03-29T12:13:40.848882Z",
     "start_time": "2021-03-29T12:13:39.900106Z"
    }
   },
   "outputs": [],
   "source": [
    "!sgqlc-codegen schema mina_explorer_schema.json mina_explorer_schema.py"
   ]
  },
  {
   "cell_type": "code",
   "execution_count": null,
   "id": "outside-kitty",
   "metadata": {},
   "outputs": [],
   "source": []
  }
 ],
 "metadata": {
  "kernelspec": {
   "display_name": "Python 3",
   "language": "python",
   "name": "python3"
  },
  "language_info": {
   "codemirror_mode": {
    "name": "ipython",
    "version": 3
   },
   "file_extension": ".py",
   "mimetype": "text/x-python",
   "name": "python",
   "nbconvert_exporter": "python",
   "pygments_lexer": "ipython3",
   "version": "3.8.5"
  }
 },
 "nbformat": 4,
 "nbformat_minor": 5
}
